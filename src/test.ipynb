{
 "cells": [
  {
   "cell_type": "code",
   "execution_count": 1,
   "metadata": {},
   "outputs": [
    {
     "name": "stdout",
     "output_type": "stream",
     "text": [
      "c:\\Users\\sigbj\\Documents\\KAI\\src\n"
     ]
    }
   ],
   "source": [
    "import json\n",
    "import numpy as np\n",
    "from shapely.geometry import Point\n",
    "from shapely.geometry.polygon import Polygon\n",
    "from shapely import geometry\n",
    "import pickle\n",
    "import matplotlib.pyplot as plt\n",
    "import pandas as pd\n",
    "from utils.utils import *\n",
    "import os\n",
    "import PIL\n",
    "import sys\n",
    "\n",
    "PIL.Image.MAX_IMAGE_PIXELS = None\n",
    "header = ['ID', 'x', 'y', 'z', 'rx', 'ry', 'rz']\n",
    "ny, nx = 26460, 17004\n",
    "metadata = pd.read_table('../data/Aerial_Photos/GNSSINS/EO_V355_TT-14525V_20210727_1.txt', comment='#', delim_whitespace=True, names=header, usecols=[0, 1, 2, 3, 5, 6, 7])\n",
    "metadata[['rx', 'ry', 'rz']] = metadata[['rx', 'ry', 'rz']].apply(np.deg2rad)\n",
    "focal_length = int(100.5*1e-3/4e-6) # image coordinates\n",
    "ppa = np.array((nx/2 + int(0.08*1e-3/4e-6), ny/2)) # image coordinates\n",
    "\n",
    "buildings = load_sfkb(max_buildings=20)\n",
    "buildings = get_image_ids(buildings)"
   ]
  },
  {
   "cell_type": "code",
   "execution_count": null,
   "metadata": {},
   "outputs": [],
   "source": [
    "def UTM_to_image(utm_coords, image_id):\n",
    "    nx = 17004\n",
    "    CM = camera_matrix(image_id)\n",
    "    utm_coords_hom = np.vstack([utm_coords, np.ones((1, utm_coords.shape[-1]))])\n",
    "    im_coords = CM@utm_coords_hom\n",
    "    im_coords = im_coords[:-1, :]/im_coords[-1]\n",
    "    im_coords[0] = -im_coords[0] + nx \n",
    "    return im_coords\n",
    "\n",
    "UTM_to_image(buildings[0]., )"
   ]
  }
 ],
 "metadata": {
  "kernelspec": {
   "display_name": "base",
   "language": "python",
   "name": "python3"
  },
  "language_info": {
   "codemirror_mode": {
    "name": "ipython",
    "version": 3
   },
   "file_extension": ".py",
   "mimetype": "text/x-python",
   "name": "python",
   "nbconvert_exporter": "python",
   "pygments_lexer": "ipython3",
   "version": "3.11.5"
  }
 },
 "nbformat": 4,
 "nbformat_minor": 2
}
